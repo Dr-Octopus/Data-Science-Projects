{
 "cells": [
  {
   "cell_type": "code",
   "execution_count": 1,
   "metadata": {},
   "outputs": [
    {
     "name": "stderr",
     "output_type": "stream",
     "text": [
      "Using TensorFlow backend.\n",
      "C:\\Users\\disco\\Anaconda3\\envs\\fc_clus\\lib\\site-packages\\tensorflow\\python\\framework\\dtypes.py:523: FutureWarning: Passing (type, 1) or '1type' as a synonym of type is deprecated; in a future version of numpy, it will be understood as (type, (1,)) / '(1,)type'.\n",
      "  _np_qint8 = np.dtype([(\"qint8\", np.int8, 1)])\n",
      "C:\\Users\\disco\\Anaconda3\\envs\\fc_clus\\lib\\site-packages\\tensorflow\\python\\framework\\dtypes.py:524: FutureWarning: Passing (type, 1) or '1type' as a synonym of type is deprecated; in a future version of numpy, it will be understood as (type, (1,)) / '(1,)type'.\n",
      "  _np_quint8 = np.dtype([(\"quint8\", np.uint8, 1)])\n",
      "C:\\Users\\disco\\Anaconda3\\envs\\fc_clus\\lib\\site-packages\\tensorflow\\python\\framework\\dtypes.py:525: FutureWarning: Passing (type, 1) or '1type' as a synonym of type is deprecated; in a future version of numpy, it will be understood as (type, (1,)) / '(1,)type'.\n",
      "  _np_qint16 = np.dtype([(\"qint16\", np.int16, 1)])\n",
      "C:\\Users\\disco\\Anaconda3\\envs\\fc_clus\\lib\\site-packages\\tensorflow\\python\\framework\\dtypes.py:526: FutureWarning: Passing (type, 1) or '1type' as a synonym of type is deprecated; in a future version of numpy, it will be understood as (type, (1,)) / '(1,)type'.\n",
      "  _np_quint16 = np.dtype([(\"quint16\", np.uint16, 1)])\n",
      "C:\\Users\\disco\\Anaconda3\\envs\\fc_clus\\lib\\site-packages\\tensorflow\\python\\framework\\dtypes.py:527: FutureWarning: Passing (type, 1) or '1type' as a synonym of type is deprecated; in a future version of numpy, it will be understood as (type, (1,)) / '(1,)type'.\n",
      "  _np_qint32 = np.dtype([(\"qint32\", np.int32, 1)])\n",
      "C:\\Users\\disco\\Anaconda3\\envs\\fc_clus\\lib\\site-packages\\tensorflow\\python\\framework\\dtypes.py:532: FutureWarning: Passing (type, 1) or '1type' as a synonym of type is deprecated; in a future version of numpy, it will be understood as (type, (1,)) / '(1,)type'.\n",
      "  np_resource = np.dtype([(\"resource\", np.ubyte, 1)])\n"
     ]
    }
   ],
   "source": [
    "# imports\n",
    "import glob\n",
    "from keras_segmentation.models.unet import resnet50_unet\n",
    "model = resnet50_unet(n_classes=2, input_height=224, input_width=224)"
   ]
  },
  {
   "cell_type": "code",
   "execution_count": 2,
   "metadata": {},
   "outputs": [
    {
     "name": "stdout",
     "output_type": "stream",
     "text": [
      "Verifying training dataset\n"
     ]
    },
    {
     "name": "stderr",
     "output_type": "stream",
     "text": [
      "100%|█████████████████████████████████████████████████████████████████████████████████████████████████████████████████████████████████████████████████████████████████| 54/54 [00:00<00:00, 608.37it/s]\n"
     ]
    },
    {
     "name": "stdout",
     "output_type": "stream",
     "text": [
      "Dataset verified! \n",
      "Epoch 1/3\n",
      "7/7 [==============================] - ETA: 1:12 - loss: 0.9811 - acc: 0.480 - ETA: 31s - loss: 2.1910 - acc: 0.365 - ETA: 17s - loss: 1.8921 - acc: 0.43 - ETA: 10s - loss: 1.6904 - acc: 0.46 - ETA: 5s - loss: 1.5064 - acc: 0.4897 - ETA: 2s - loss: 1.3824 - acc: 0.499 - 15s 2s/step - loss: 1.2892 - acc: 0.5205\n",
      "saved  checkpoint_model.0\n",
      "Epoch 2/3\n",
      "7/7 [==============================] - ETA: 2s - loss: 0.7115 - acc: 0.535 - ETA: 2s - loss: 0.7065 - acc: 0.571 - ETA: 1s - loss: 0.6877 - acc: 0.590 - ETA: 1s - loss: 0.6816 - acc: 0.564 - ETA: 0s - loss: 0.6682 - acc: 0.588 - ETA: 0s - loss: 0.6663 - acc: 0.579 - 3s 407ms/step - loss: 0.6679 - acc: 0.5724\n",
      "saved  checkpoint_model.1\n",
      "Epoch 3/3\n",
      "7/7 [==============================] - ETA: 2s - loss: 0.6036 - acc: 0.656 - ETA: 2s - loss: 0.6197 - acc: 0.655 - ETA: 1s - loss: 0.6270 - acc: 0.628 - ETA: 1s - loss: 0.6324 - acc: 0.601 - ETA: 0s - loss: 0.6219 - acc: 0.635 - ETA: 0s - loss: 0.6320 - acc: 0.626 - 3s 410ms/step - loss: 0.6378 - acc: 0.6139\n",
      "saved  checkpoint_model.2\n"
     ]
    }
   ],
   "source": [
    "# train model\n",
    "batch_sz = 8\n",
    "steps = int(len(glob.glob('Image_samples/*.png'))/batch_sz)+1\n",
    "\n",
    "model.train(\n",
    "    train_images =  'Image_samples/',\n",
    "    train_annotations = 'Seg_samples/',\n",
    "    checkpoints_path = 'checkpoint_model',\n",
    "    verify_dataset=True,\n",
    "    epochs=3,\n",
    "    batch_size=batch_sz,\n",
    "    steps_per_epoch=steps,\n",
    "    do_augment=True,\n",
    "    augmentation_name='aug_geometric',\n",
    "\n",
    "#     validate=True,\n",
    "#     val_images='Image_val/',\n",
    "#     val_annotations='Seg_val/',\n",
    "#     val_batch_size=batch_sz,\n",
    "#     val_steps_per_epoch=steps_val\n",
    ")"
   ]
  }
 ],
 "metadata": {
  "kernelspec": {
   "display_name": "Python 3",
   "language": "python",
   "name": "python3"
  },
  "language_info": {
   "codemirror_mode": {
    "name": "ipython",
    "version": 3
   },
   "file_extension": ".py",
   "mimetype": "text/x-python",
   "name": "python",
   "nbconvert_exporter": "python",
   "pygments_lexer": "ipython3",
   "version": "3.6.10"
  },
  "varInspector": {
   "cols": {
    "lenName": 16,
    "lenType": 16,
    "lenVar": 40
   },
   "kernels_config": {
    "python": {
     "delete_cmd_postfix": "",
     "delete_cmd_prefix": "del ",
     "library": "var_list.py",
     "varRefreshCmd": "print(var_dic_list())"
    },
    "r": {
     "delete_cmd_postfix": ") ",
     "delete_cmd_prefix": "rm(",
     "library": "var_list.r",
     "varRefreshCmd": "cat(var_dic_list()) "
    }
   },
   "types_to_exclude": [
    "module",
    "function",
    "builtin_function_or_method",
    "instance",
    "_Feature"
   ],
   "window_display": false
  }
 },
 "nbformat": 4,
 "nbformat_minor": 4
}
